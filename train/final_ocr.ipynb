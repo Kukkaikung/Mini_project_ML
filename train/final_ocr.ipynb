{
  "nbformat": 4,
  "nbformat_minor": 0,
  "metadata": {
    "colab": {
      "provenance": [],
      "gpuType": "T4"
    },
    "kernelspec": {
      "name": "python3",
      "display_name": "Python 3"
    },
    "language_info": {
      "name": "python"
    },
    "accelerator": "GPU"
  },
  "cells": [
    {
      "cell_type": "code",
      "execution_count": null,
      "metadata": {
        "colab": {
          "base_uri": "https://localhost:8080/"
        },
        "id": "GhVwBGHFA9MW",
        "outputId": "8d06bc0a-96a7-4351-e9f8-564e46560a4d"
      },
      "outputs": [
        {
          "output_type": "stream",
          "name": "stdout",
          "text": [
            "Mounted at /content/drive\n"
          ]
        }
      ],
      "source": [
        "from google.colab import drive\n",
        "drive.mount('/content/drive')"
      ]
    },
    {
      "cell_type": "code",
      "source": [
        "!pip install torchsummary"
      ],
      "metadata": {
        "colab": {
          "base_uri": "https://localhost:8080/"
        },
        "id": "QqV0Fbk-DAt4",
        "outputId": "4b82ba61-2394-47ac-b28c-3486b0ca5558"
      },
      "execution_count": null,
      "outputs": [
        {
          "output_type": "stream",
          "name": "stdout",
          "text": [
            "Requirement already satisfied: torchsummary in /usr/local/lib/python3.11/dist-packages (1.5.1)\n"
          ]
        }
      ]
    },
    {
      "cell_type": "code",
      "source": [
        "!pip install easyocr\n",
        "!pip install torch torchvision torchaudio"
      ],
      "metadata": {
        "colab": {
          "base_uri": "https://localhost:8080/"
        },
        "id": "ZEJPPlHXBDGC",
        "outputId": "44173830-e7e7-43a1-f5a1-fe2308089f6a"
      },
      "execution_count": null,
      "outputs": [
        {
          "output_type": "stream",
          "name": "stdout",
          "text": [
            "Collecting easyocr\n",
            "  Downloading easyocr-1.7.2-py3-none-any.whl.metadata (10 kB)\n",
            "Requirement already satisfied: torch in /usr/local/lib/python3.11/dist-packages (from easyocr) (2.5.1+cu124)\n",
            "Requirement already satisfied: torchvision>=0.5 in /usr/local/lib/python3.11/dist-packages (from easyocr) (0.20.1+cu124)\n",
            "Requirement already satisfied: opencv-python-headless in /usr/local/lib/python3.11/dist-packages (from easyocr) (4.11.0.86)\n",
            "Requirement already satisfied: scipy in /usr/local/lib/python3.11/dist-packages (from easyocr) (1.13.1)\n",
            "Requirement already satisfied: numpy in /usr/local/lib/python3.11/dist-packages (from easyocr) (1.26.4)\n",
            "Requirement already satisfied: Pillow in /usr/local/lib/python3.11/dist-packages (from easyocr) (11.1.0)\n",
            "Requirement already satisfied: scikit-image in /usr/local/lib/python3.11/dist-packages (from easyocr) (0.25.2)\n",
            "Collecting python-bidi (from easyocr)\n",
            "  Downloading python_bidi-0.6.6-cp311-cp311-manylinux_2_17_x86_64.manylinux2014_x86_64.whl.metadata (4.9 kB)\n",
            "Requirement already satisfied: PyYAML in /usr/local/lib/python3.11/dist-packages (from easyocr) (6.0.2)\n",
            "Requirement already satisfied: Shapely in /usr/local/lib/python3.11/dist-packages (from easyocr) (2.0.7)\n",
            "Collecting pyclipper (from easyocr)\n",
            "  Downloading pyclipper-1.3.0.post6-cp311-cp311-manylinux_2_17_x86_64.manylinux2014_x86_64.whl.metadata (9.0 kB)\n",
            "Collecting ninja (from easyocr)\n",
            "  Downloading ninja-1.11.1.3-py3-none-manylinux_2_12_x86_64.manylinux2010_x86_64.whl.metadata (5.3 kB)\n",
            "Requirement already satisfied: filelock in /usr/local/lib/python3.11/dist-packages (from torch->easyocr) (3.17.0)\n",
            "Requirement already satisfied: typing-extensions>=4.8.0 in /usr/local/lib/python3.11/dist-packages (from torch->easyocr) (4.12.2)\n",
            "Requirement already satisfied: networkx in /usr/local/lib/python3.11/dist-packages (from torch->easyocr) (3.4.2)\n",
            "Requirement already satisfied: jinja2 in /usr/local/lib/python3.11/dist-packages (from torch->easyocr) (3.1.5)\n",
            "Requirement already satisfied: fsspec in /usr/local/lib/python3.11/dist-packages (from torch->easyocr) (2024.10.0)\n",
            "Collecting nvidia-cuda-nvrtc-cu12==12.4.127 (from torch->easyocr)\n",
            "  Downloading nvidia_cuda_nvrtc_cu12-12.4.127-py3-none-manylinux2014_x86_64.whl.metadata (1.5 kB)\n",
            "Collecting nvidia-cuda-runtime-cu12==12.4.127 (from torch->easyocr)\n",
            "  Downloading nvidia_cuda_runtime_cu12-12.4.127-py3-none-manylinux2014_x86_64.whl.metadata (1.5 kB)\n",
            "Collecting nvidia-cuda-cupti-cu12==12.4.127 (from torch->easyocr)\n",
            "  Downloading nvidia_cuda_cupti_cu12-12.4.127-py3-none-manylinux2014_x86_64.whl.metadata (1.6 kB)\n",
            "Collecting nvidia-cudnn-cu12==9.1.0.70 (from torch->easyocr)\n",
            "  Downloading nvidia_cudnn_cu12-9.1.0.70-py3-none-manylinux2014_x86_64.whl.metadata (1.6 kB)\n",
            "Collecting nvidia-cublas-cu12==12.4.5.8 (from torch->easyocr)\n",
            "  Downloading nvidia_cublas_cu12-12.4.5.8-py3-none-manylinux2014_x86_64.whl.metadata (1.5 kB)\n",
            "Collecting nvidia-cufft-cu12==11.2.1.3 (from torch->easyocr)\n",
            "  Downloading nvidia_cufft_cu12-11.2.1.3-py3-none-manylinux2014_x86_64.whl.metadata (1.5 kB)\n",
            "Collecting nvidia-curand-cu12==10.3.5.147 (from torch->easyocr)\n",
            "  Downloading nvidia_curand_cu12-10.3.5.147-py3-none-manylinux2014_x86_64.whl.metadata (1.5 kB)\n",
            "Collecting nvidia-cusolver-cu12==11.6.1.9 (from torch->easyocr)\n",
            "  Downloading nvidia_cusolver_cu12-11.6.1.9-py3-none-manylinux2014_x86_64.whl.metadata (1.6 kB)\n",
            "Collecting nvidia-cusparse-cu12==12.3.1.170 (from torch->easyocr)\n",
            "  Downloading nvidia_cusparse_cu12-12.3.1.170-py3-none-manylinux2014_x86_64.whl.metadata (1.6 kB)\n",
            "Requirement already satisfied: nvidia-nccl-cu12==2.21.5 in /usr/local/lib/python3.11/dist-packages (from torch->easyocr) (2.21.5)\n",
            "Requirement already satisfied: nvidia-nvtx-cu12==12.4.127 in /usr/local/lib/python3.11/dist-packages (from torch->easyocr) (12.4.127)\n",
            "Collecting nvidia-nvjitlink-cu12==12.4.127 (from torch->easyocr)\n",
            "  Downloading nvidia_nvjitlink_cu12-12.4.127-py3-none-manylinux2014_x86_64.whl.metadata (1.5 kB)\n",
            "Requirement already satisfied: triton==3.1.0 in /usr/local/lib/python3.11/dist-packages (from torch->easyocr) (3.1.0)\n",
            "Requirement already satisfied: sympy==1.13.1 in /usr/local/lib/python3.11/dist-packages (from torch->easyocr) (1.13.1)\n",
            "Requirement already satisfied: mpmath<1.4,>=1.1.0 in /usr/local/lib/python3.11/dist-packages (from sympy==1.13.1->torch->easyocr) (1.3.0)\n",
            "Requirement already satisfied: imageio!=2.35.0,>=2.33 in /usr/local/lib/python3.11/dist-packages (from scikit-image->easyocr) (2.37.0)\n",
            "Requirement already satisfied: tifffile>=2022.8.12 in /usr/local/lib/python3.11/dist-packages (from scikit-image->easyocr) (2025.2.18)\n",
            "Requirement already satisfied: packaging>=21 in /usr/local/lib/python3.11/dist-packages (from scikit-image->easyocr) (24.2)\n",
            "Requirement already satisfied: lazy-loader>=0.4 in /usr/local/lib/python3.11/dist-packages (from scikit-image->easyocr) (0.4)\n",
            "Requirement already satisfied: MarkupSafe>=2.0 in /usr/local/lib/python3.11/dist-packages (from jinja2->torch->easyocr) (3.0.2)\n",
            "Downloading easyocr-1.7.2-py3-none-any.whl (2.9 MB)\n",
            "\u001b[2K   \u001b[90m━━━━━━━━━━━━━━━━━━━━━━━━━━━━━━━━━━━━━━━━\u001b[0m \u001b[32m2.9/2.9 MB\u001b[0m \u001b[31m45.2 MB/s\u001b[0m eta \u001b[36m0:00:00\u001b[0m\n",
            "\u001b[?25hDownloading nvidia_cublas_cu12-12.4.5.8-py3-none-manylinux2014_x86_64.whl (363.4 MB)\n",
            "\u001b[2K   \u001b[90m━━━━━━━━━━━━━━━━━━━━━━━━━━━━━━━━━━━━━━━━\u001b[0m \u001b[32m363.4/363.4 MB\u001b[0m \u001b[31m4.0 MB/s\u001b[0m eta \u001b[36m0:00:00\u001b[0m\n",
            "\u001b[?25hDownloading nvidia_cuda_cupti_cu12-12.4.127-py3-none-manylinux2014_x86_64.whl (13.8 MB)\n",
            "\u001b[2K   \u001b[90m━━━━━━━━━━━━━━━━━━━━━━━━━━━━━━━━━━━━━━━━\u001b[0m \u001b[32m13.8/13.8 MB\u001b[0m \u001b[31m94.5 MB/s\u001b[0m eta \u001b[36m0:00:00\u001b[0m\n",
            "\u001b[?25hDownloading nvidia_cuda_nvrtc_cu12-12.4.127-py3-none-manylinux2014_x86_64.whl (24.6 MB)\n",
            "\u001b[2K   \u001b[90m━━━━━━━━━━━━━━━━━━━━━━━━━━━━━━━━━━━━━━━━\u001b[0m \u001b[32m24.6/24.6 MB\u001b[0m \u001b[31m57.7 MB/s\u001b[0m eta \u001b[36m0:00:00\u001b[0m\n",
            "\u001b[?25hDownloading nvidia_cuda_runtime_cu12-12.4.127-py3-none-manylinux2014_x86_64.whl (883 kB)\n",
            "\u001b[2K   \u001b[90m━━━━━━━━━━━━━━━━━━━━━━━━━━━━━━━━━━━━━━━━\u001b[0m \u001b[32m883.7/883.7 kB\u001b[0m \u001b[31m43.7 MB/s\u001b[0m eta \u001b[36m0:00:00\u001b[0m\n",
            "\u001b[?25hDownloading nvidia_cudnn_cu12-9.1.0.70-py3-none-manylinux2014_x86_64.whl (664.8 MB)\n",
            "\u001b[2K   \u001b[90m━━━━━━━━━━━━━━━━━━━━━━━━━━━━━━━━━━━━━━━━\u001b[0m \u001b[32m664.8/664.8 MB\u001b[0m \u001b[31m2.7 MB/s\u001b[0m eta \u001b[36m0:00:00\u001b[0m\n",
            "\u001b[?25hDownloading nvidia_cufft_cu12-11.2.1.3-py3-none-manylinux2014_x86_64.whl (211.5 MB)\n",
            "\u001b[2K   \u001b[90m━━━━━━━━━━━━━━━━━━━━━━━━━━━━━━━━━━━━━━━━\u001b[0m \u001b[32m211.5/211.5 MB\u001b[0m \u001b[31m5.2 MB/s\u001b[0m eta \u001b[36m0:00:00\u001b[0m\n",
            "\u001b[?25hDownloading nvidia_curand_cu12-10.3.5.147-py3-none-manylinux2014_x86_64.whl (56.3 MB)\n",
            "\u001b[2K   \u001b[90m━━━━━━━━━━━━━━━━━━━━━━━━━━━━━━━━━━━━━━━━\u001b[0m \u001b[32m56.3/56.3 MB\u001b[0m \u001b[31m11.5 MB/s\u001b[0m eta \u001b[36m0:00:00\u001b[0m\n",
            "\u001b[?25hDownloading nvidia_cusolver_cu12-11.6.1.9-py3-none-manylinux2014_x86_64.whl (127.9 MB)\n",
            "\u001b[2K   \u001b[90m━━━━━━━━━━━━━━━━━━━━━━━━━━━━━━━━━━━━━━━━\u001b[0m \u001b[32m127.9/127.9 MB\u001b[0m \u001b[31m7.1 MB/s\u001b[0m eta \u001b[36m0:00:00\u001b[0m\n",
            "\u001b[?25hDownloading nvidia_cusparse_cu12-12.3.1.170-py3-none-manylinux2014_x86_64.whl (207.5 MB)\n",
            "\u001b[2K   \u001b[90m━━━━━━━━━━━━━━━━━━━━━━━━━━━━━━━━━━━━━━━━\u001b[0m \u001b[32m207.5/207.5 MB\u001b[0m \u001b[31m6.6 MB/s\u001b[0m eta \u001b[36m0:00:00\u001b[0m\n",
            "\u001b[?25hDownloading nvidia_nvjitlink_cu12-12.4.127-py3-none-manylinux2014_x86_64.whl (21.1 MB)\n",
            "\u001b[2K   \u001b[90m━━━━━━━━━━━━━━━━━━━━━━━━━━━━━━━━━━━━━━━━\u001b[0m \u001b[32m21.1/21.1 MB\u001b[0m \u001b[31m81.7 MB/s\u001b[0m eta \u001b[36m0:00:00\u001b[0m\n",
            "\u001b[?25hDownloading ninja-1.11.1.3-py3-none-manylinux_2_12_x86_64.manylinux2010_x86_64.whl (422 kB)\n",
            "\u001b[2K   \u001b[90m━━━━━━━━━━━━━━━━━━━━━━━━━━━━━━━━━━━━━━━━\u001b[0m \u001b[32m422.9/422.9 kB\u001b[0m \u001b[31m38.7 MB/s\u001b[0m eta \u001b[36m0:00:00\u001b[0m\n",
            "\u001b[?25hDownloading pyclipper-1.3.0.post6-cp311-cp311-manylinux_2_17_x86_64.manylinux2014_x86_64.whl (969 kB)\n",
            "\u001b[2K   \u001b[90m━━━━━━━━━━━━━━━━━━━━━━━━━━━━━━━━━━━━━━━━\u001b[0m \u001b[32m969.6/969.6 kB\u001b[0m \u001b[31m52.1 MB/s\u001b[0m eta \u001b[36m0:00:00\u001b[0m\n",
            "\u001b[?25hDownloading python_bidi-0.6.6-cp311-cp311-manylinux_2_17_x86_64.manylinux2014_x86_64.whl (292 kB)\n",
            "\u001b[2K   \u001b[90m━━━━━━━━━━━━━━━━━━━━━━━━━━━━━━━━━━━━━━━━\u001b[0m \u001b[32m292.9/292.9 kB\u001b[0m \u001b[31m29.2 MB/s\u001b[0m eta \u001b[36m0:00:00\u001b[0m\n",
            "\u001b[?25hInstalling collected packages: python-bidi, pyclipper, nvidia-nvjitlink-cu12, nvidia-curand-cu12, nvidia-cufft-cu12, nvidia-cuda-runtime-cu12, nvidia-cuda-nvrtc-cu12, nvidia-cuda-cupti-cu12, nvidia-cublas-cu12, ninja, nvidia-cusparse-cu12, nvidia-cudnn-cu12, nvidia-cusolver-cu12, easyocr\n",
            "  Attempting uninstall: nvidia-nvjitlink-cu12\n",
            "    Found existing installation: nvidia-nvjitlink-cu12 12.5.82\n",
            "    Uninstalling nvidia-nvjitlink-cu12-12.5.82:\n",
            "      Successfully uninstalled nvidia-nvjitlink-cu12-12.5.82\n",
            "  Attempting uninstall: nvidia-curand-cu12\n",
            "    Found existing installation: nvidia-curand-cu12 10.3.6.82\n",
            "    Uninstalling nvidia-curand-cu12-10.3.6.82:\n",
            "      Successfully uninstalled nvidia-curand-cu12-10.3.6.82\n",
            "  Attempting uninstall: nvidia-cufft-cu12\n",
            "    Found existing installation: nvidia-cufft-cu12 11.2.3.61\n",
            "    Uninstalling nvidia-cufft-cu12-11.2.3.61:\n",
            "      Successfully uninstalled nvidia-cufft-cu12-11.2.3.61\n",
            "  Attempting uninstall: nvidia-cuda-runtime-cu12\n",
            "    Found existing installation: nvidia-cuda-runtime-cu12 12.5.82\n",
            "    Uninstalling nvidia-cuda-runtime-cu12-12.5.82:\n",
            "      Successfully uninstalled nvidia-cuda-runtime-cu12-12.5.82\n",
            "  Attempting uninstall: nvidia-cuda-nvrtc-cu12\n",
            "    Found existing installation: nvidia-cuda-nvrtc-cu12 12.5.82\n",
            "    Uninstalling nvidia-cuda-nvrtc-cu12-12.5.82:\n",
            "      Successfully uninstalled nvidia-cuda-nvrtc-cu12-12.5.82\n",
            "  Attempting uninstall: nvidia-cuda-cupti-cu12\n",
            "    Found existing installation: nvidia-cuda-cupti-cu12 12.5.82\n",
            "    Uninstalling nvidia-cuda-cupti-cu12-12.5.82:\n",
            "      Successfully uninstalled nvidia-cuda-cupti-cu12-12.5.82\n",
            "  Attempting uninstall: nvidia-cublas-cu12\n",
            "    Found existing installation: nvidia-cublas-cu12 12.5.3.2\n",
            "    Uninstalling nvidia-cublas-cu12-12.5.3.2:\n",
            "      Successfully uninstalled nvidia-cublas-cu12-12.5.3.2\n",
            "  Attempting uninstall: nvidia-cusparse-cu12\n",
            "    Found existing installation: nvidia-cusparse-cu12 12.5.1.3\n",
            "    Uninstalling nvidia-cusparse-cu12-12.5.1.3:\n",
            "      Successfully uninstalled nvidia-cusparse-cu12-12.5.1.3\n",
            "  Attempting uninstall: nvidia-cudnn-cu12\n",
            "    Found existing installation: nvidia-cudnn-cu12 9.3.0.75\n",
            "    Uninstalling nvidia-cudnn-cu12-9.3.0.75:\n",
            "      Successfully uninstalled nvidia-cudnn-cu12-9.3.0.75\n",
            "  Attempting uninstall: nvidia-cusolver-cu12\n",
            "    Found existing installation: nvidia-cusolver-cu12 11.6.3.83\n",
            "    Uninstalling nvidia-cusolver-cu12-11.6.3.83:\n",
            "      Successfully uninstalled nvidia-cusolver-cu12-11.6.3.83\n",
            "Successfully installed easyocr-1.7.2 ninja-1.11.1.3 nvidia-cublas-cu12-12.4.5.8 nvidia-cuda-cupti-cu12-12.4.127 nvidia-cuda-nvrtc-cu12-12.4.127 nvidia-cuda-runtime-cu12-12.4.127 nvidia-cudnn-cu12-9.1.0.70 nvidia-cufft-cu12-11.2.1.3 nvidia-curand-cu12-10.3.5.147 nvidia-cusolver-cu12-11.6.1.9 nvidia-cusparse-cu12-12.3.1.170 nvidia-nvjitlink-cu12-12.4.127 pyclipper-1.3.0.post6 python-bidi-0.6.6\n",
            "Requirement already satisfied: torch in /usr/local/lib/python3.11/dist-packages (2.5.1+cu124)\n",
            "Requirement already satisfied: torchvision in /usr/local/lib/python3.11/dist-packages (0.20.1+cu124)\n",
            "Requirement already satisfied: torchaudio in /usr/local/lib/python3.11/dist-packages (2.5.1+cu124)\n",
            "Requirement already satisfied: filelock in /usr/local/lib/python3.11/dist-packages (from torch) (3.17.0)\n",
            "Requirement already satisfied: typing-extensions>=4.8.0 in /usr/local/lib/python3.11/dist-packages (from torch) (4.12.2)\n",
            "Requirement already satisfied: networkx in /usr/local/lib/python3.11/dist-packages (from torch) (3.4.2)\n",
            "Requirement already satisfied: jinja2 in /usr/local/lib/python3.11/dist-packages (from torch) (3.1.5)\n",
            "Requirement already satisfied: fsspec in /usr/local/lib/python3.11/dist-packages (from torch) (2024.10.0)\n",
            "Requirement already satisfied: nvidia-cuda-nvrtc-cu12==12.4.127 in /usr/local/lib/python3.11/dist-packages (from torch) (12.4.127)\n",
            "Requirement already satisfied: nvidia-cuda-runtime-cu12==12.4.127 in /usr/local/lib/python3.11/dist-packages (from torch) (12.4.127)\n",
            "Requirement already satisfied: nvidia-cuda-cupti-cu12==12.4.127 in /usr/local/lib/python3.11/dist-packages (from torch) (12.4.127)\n",
            "Requirement already satisfied: nvidia-cudnn-cu12==9.1.0.70 in /usr/local/lib/python3.11/dist-packages (from torch) (9.1.0.70)\n",
            "Requirement already satisfied: nvidia-cublas-cu12==12.4.5.8 in /usr/local/lib/python3.11/dist-packages (from torch) (12.4.5.8)\n",
            "Requirement already satisfied: nvidia-cufft-cu12==11.2.1.3 in /usr/local/lib/python3.11/dist-packages (from torch) (11.2.1.3)\n",
            "Requirement already satisfied: nvidia-curand-cu12==10.3.5.147 in /usr/local/lib/python3.11/dist-packages (from torch) (10.3.5.147)\n",
            "Requirement already satisfied: nvidia-cusolver-cu12==11.6.1.9 in /usr/local/lib/python3.11/dist-packages (from torch) (11.6.1.9)\n",
            "Requirement already satisfied: nvidia-cusparse-cu12==12.3.1.170 in /usr/local/lib/python3.11/dist-packages (from torch) (12.3.1.170)\n",
            "Requirement already satisfied: nvidia-nccl-cu12==2.21.5 in /usr/local/lib/python3.11/dist-packages (from torch) (2.21.5)\n",
            "Requirement already satisfied: nvidia-nvtx-cu12==12.4.127 in /usr/local/lib/python3.11/dist-packages (from torch) (12.4.127)\n",
            "Requirement already satisfied: nvidia-nvjitlink-cu12==12.4.127 in /usr/local/lib/python3.11/dist-packages (from torch) (12.4.127)\n",
            "Requirement already satisfied: triton==3.1.0 in /usr/local/lib/python3.11/dist-packages (from torch) (3.1.0)\n",
            "Requirement already satisfied: sympy==1.13.1 in /usr/local/lib/python3.11/dist-packages (from torch) (1.13.1)\n",
            "Requirement already satisfied: mpmath<1.4,>=1.1.0 in /usr/local/lib/python3.11/dist-packages (from sympy==1.13.1->torch) (1.3.0)\n",
            "Requirement already satisfied: numpy in /usr/local/lib/python3.11/dist-packages (from torchvision) (1.26.4)\n",
            "Requirement already satisfied: pillow!=8.3.*,>=5.3.0 in /usr/local/lib/python3.11/dist-packages (from torchvision) (11.1.0)\n",
            "Requirement already satisfied: MarkupSafe>=2.0 in /usr/local/lib/python3.11/dist-packages (from jinja2->torch) (3.0.2)\n"
          ]
        }
      ]
    },
    {
      "cell_type": "code",
      "source": [
        "import os\n",
        "import torch\n",
        "import torch.nn as nn\n",
        "import torch.optim as optim\n",
        "import torch.utils.data as data\n",
        "import torchvision.transforms as transforms\n",
        "from torch.utils.data import Dataset, DataLoader\n",
        "from PIL import Image\n",
        "from torch.nn.utils.rnn import pad_sequence\n",
        "import matplotlib.pyplot as plt"
      ],
      "metadata": {
        "id": "81IAB_jBBGdi"
      },
      "execution_count": null,
      "outputs": []
    },
    {
      "cell_type": "code",
      "source": [
        "# Define device\n",
        "device = torch.device(\"cuda\" if torch.cuda.is_available() else \"cpu\")\n",
        "print(f\"Using device: {device}\")\n",
        "\n",
        "# Define all characters\n",
        "characters = \"0123456789กขคฆงจฉชซญฎฏฐฑฒณดตถทธนบปผฝพฟภมยรลวศษสหฬอฮ \""
      ],
      "metadata": {
        "colab": {
          "base_uri": "https://localhost:8080/"
        },
        "id": "k_SdVt0UBXXJ",
        "outputId": "d6774ac0-9439-4443-eb41-0e55eb5f6eae"
      },
      "execution_count": null,
      "outputs": [
        {
          "output_type": "stream",
          "name": "stdout",
          "text": [
            "Using device: cuda\n"
          ]
        }
      ]
    },
    {
      "cell_type": "code",
      "source": [
        "#############################################################"
      ],
      "metadata": {
        "id": "jlAFHjgHJGya"
      },
      "execution_count": null,
      "outputs": []
    },
    {
      "cell_type": "code",
      "source": [
        "# Create Dataset\n",
        "class OCRDataset(Dataset):\n",
        "    def __init__(self, img_dir, label_path, transform=None):\n",
        "        self.img_dir = img_dir\n",
        "        self.label_path = label_path\n",
        "        self.transform = transform\n",
        "        self.image_paths = []\n",
        "        self.labels = []\n",
        "\n",
        "        with open(label_path, \"r\", encoding=\"utf-8\") as f:\n",
        "            for line in f:\n",
        "                parts = line.strip().split(\", \", 1)  # Split only at first comma\n",
        "                if len(parts) == 2:\n",
        "                    img_name, text = parts\n",
        "                    img_name = img_name.strip()\n",
        "                    text = text.strip('\"')  # Remove quotes around the text\n",
        "                    self.image_paths.append(img_name)\n",
        "                    self.labels.append(text)\n",
        "                else:\n",
        "                    print(f\"Skipping malformed line: {line}\")\n",
        "\n",
        "    def __len__(self):\n",
        "        return len(self.image_paths)\n",
        "\n",
        "    def __getitem__(self, idx):\n",
        "        img_name = self.image_paths[idx]\n",
        "        label = self.labels[idx]\n",
        "\n",
        "        try:\n",
        "            img_path = os.path.join(self.img_dir, img_name)\n",
        "            img = Image.open(img_path).convert('RGB')\n",
        "        except Exception as e:\n",
        "            print(f\"Error loading image {img_name}: {e}\")\n",
        "            # Create a blank image as fallback\n",
        "            img = Image.new('RGB', (128, 32), color='white')\n",
        "\n",
        "        if self.transform:\n",
        "            img = self.transform(img)\n",
        "\n",
        "        # Convert text to numbers\n",
        "        label_encoded = []\n",
        "        for c in label:\n",
        "            if c in characters:\n",
        "                label_encoded.append(characters.index(c))\n",
        "            else:\n",
        "                # Handle unknown characters\n",
        "                print(f\"Warning: Character '{c}' not in the character set!\")\n",
        "                label_encoded.append(characters.index(' '))\n",
        "\n",
        "        return img, torch.tensor(label_encoded, dtype=torch.long)"
      ],
      "metadata": {
        "id": "FRz2AKNPJi0p"
      },
      "execution_count": null,
      "outputs": []
    },
    {
      "cell_type": "code",
      "source": [
        "# Transformation\n",
        "transform = transforms.Compose([\n",
        "    transforms.Resize((32, 128)),\n",
        "    transforms.ToTensor(),\n",
        "    transforms.Normalize(mean=[0.485, 0.456, 0.406], std=[0.229, 0.224, 0.225]),\n",
        "])"
      ],
      "metadata": {
        "id": "l5Q3k5AbJl35"
      },
      "execution_count": null,
      "outputs": []
    },
    {
      "cell_type": "code",
      "source": [
        "# Collate function - แก้ไขให้เหมาะสมกับ CTCLoss\n",
        "def ctc_collate_fn(batch):\n",
        "    # Sort batch by decreasing label length\n",
        "    batch.sort(key=lambda x: len(x[1]), reverse=True)\n",
        "\n",
        "    # Separate images and labels\n",
        "    images, labels = zip(*batch)\n",
        "\n",
        "    # Get label lengths\n",
        "    label_lengths = torch.LongTensor([len(label) for label in labels])\n",
        "\n",
        "    # Stack all images\n",
        "    images = torch.stack(images)\n",
        "\n",
        "    # สร้าง labels เป็น tensor เดียว (flat)\n",
        "    labels_flat = []\n",
        "    for label in labels:\n",
        "        labels_flat.extend(label)\n",
        "\n",
        "    labels_tensor = torch.tensor(labels_flat, dtype=torch.long)\n",
        "\n",
        "    # Debug information\n",
        "    # print(f\"Batch size: {len(batch)}\")\n",
        "    # print(f\"Images shape: {images.shape}\")\n",
        "    # print(f\"Labels tensor shape: {labels_tensor.shape}\")\n",
        "    # print(f\"Label lengths shape: {label_lengths.shape}\")\n",
        "\n",
        "    return images, labels_tensor, label_lengths"
      ],
      "metadata": {
        "id": "szKEcP6XJnvy"
      },
      "execution_count": null,
      "outputs": []
    },
    {
      "cell_type": "code",
      "source": [
        "# Create DataLoader\n",
        "train_dataset = OCRDataset(\"/content/drive/MyDrive/MiniPro_Ml/ocr_dataset/custom_easyocr/train_images\",\n",
        "                          \"/content/drive/MyDrive/MiniPro_Ml/ocr_dataset/custom_easyocr/train_labels.txt\",\n",
        "                          transform=transform)\n",
        "\n",
        "print(f\"Dataset size: {len(train_dataset)}\")\n",
        "train_loader = DataLoader(train_dataset, batch_size=8, shuffle=True, collate_fn=ctc_collate_fn)\n"
      ],
      "metadata": {
        "colab": {
          "base_uri": "https://localhost:8080/"
        },
        "id": "gRtx7H94JrqB",
        "outputId": "8d77c9f9-418b-406a-a73b-c2445565fc2a"
      },
      "execution_count": null,
      "outputs": [
        {
          "output_type": "stream",
          "name": "stdout",
          "text": [
            "Dataset size: 145\n"
          ]
        }
      ]
    },
    {
      "cell_type": "code",
      "source": [
        "# CRNN model\n",
        "class CRNN(nn.Module):\n",
        "    def __init__(self, num_classes):\n",
        "        super(CRNN, self).__init__()\n",
        "\n",
        "        # CNN layers\n",
        "        self.cnn = nn.Sequential(\n",
        "            nn.Conv2d(3, 64, kernel_size=3, stride=1, padding=1),\n",
        "            nn.ReLU(inplace=True),\n",
        "            nn.MaxPool2d(2, 2),\n",
        "\n",
        "            nn.Conv2d(64, 128, kernel_size=3, stride=1, padding=1),\n",
        "            nn.ReLU(inplace=True),\n",
        "            nn.MaxPool2d(2, 2),\n",
        "\n",
        "            nn.Conv2d(128, 256, kernel_size=3, stride=1, padding=1),\n",
        "            nn.BatchNorm2d(256),\n",
        "            nn.ReLU(inplace=True),\n",
        "\n",
        "            nn.Conv2d(256, 256, kernel_size=3, stride=1, padding=1),\n",
        "            nn.ReLU(inplace=True),\n",
        "            nn.MaxPool2d((2, 2), (2, 1), (0, 1)),\n",
        "        )\n",
        "\n",
        "        # Calculate the output size after CNN\n",
        "        self.cnn_output_height = 4  # 32 / (2*2*2) = 4\n",
        "\n",
        "        # RNN layer\n",
        "        self.rnn = nn.GRU(256 * self.cnn_output_height, 256, bidirectional=True, batch_first=True)\n",
        "\n",
        "        # Fully connected layer\n",
        "        self.fc = nn.Linear(512, num_classes)\n",
        "\n",
        "    def forward(self, x):\n",
        "        # CNN feature extraction\n",
        "        x = self.cnn(x)\n",
        "\n",
        "        # Prepare for RNN - reshape to (batch, seq_len, input_size)\n",
        "        b, c, h, w = x.size()\n",
        "        x = x.permute(0, 3, 1, 2)  # [b, w, c, h]\n",
        "        x = x.reshape(b, w, c * h)  # [b, w, c*h]\n",
        "\n",
        "        # RNN sequence modeling\n",
        "        x, _ = self.rnn(x)\n",
        "\n",
        "        # Log softmax for CTC loss\n",
        "        x = self.fc(x)\n",
        "        x = nn.functional.log_softmax(x, dim=2)\n",
        "\n",
        "        return x"
      ],
      "metadata": {
        "id": "uF9_wo5CJuW6"
      },
      "execution_count": null,
      "outputs": []
    },
    {
      "cell_type": "code",
      "source": [
        "# ฟังก์ชันสำหรับการพล็อตกราฟ accuracy และ loss\n",
        "def plot_training_results(epochs, train_losses, train_accuracies, val_losses=None, val_accuracies=None):\n",
        "    \"\"\"\n",
        "    พล็อตกราฟแสดงผลการเทรนนิ่งทั้ง loss และ accuracy\n",
        "\n",
        "    Parameters:\n",
        "    -----------\n",
        "    epochs : list\n",
        "        รายการเลข epoch (เช่น [1, 2, 3, 4, 5])\n",
        "    train_losses : list\n",
        "        รายการค่า loss ของการเทรนนิ่งในแต่ละ epoch\n",
        "    train_accuracies : list\n",
        "        รายการค่า accuracy ของการเทรนนิ่งในแต่ละ epoch\n",
        "    val_losses : list, optional\n",
        "        รายการค่า loss ของ validation set (ถ้ามี)\n",
        "    val_accuracies : list, optional\n",
        "        รายการค่า accuracy ของ validation set (ถ้ามี)\n",
        "    \"\"\"\n",
        "    # สร้าง figure ที่มี 2 subplot\n",
        "    fig, (ax1, ax2) = plt.subplots(1, 2, figsize=(15, 5))\n",
        "\n",
        "    # พล็อตกราฟ Loss\n",
        "    ax1.plot(epochs, train_losses, 'b-o', label='Training Loss')\n",
        "    if val_losses:\n",
        "        ax1.plot(epochs, val_losses, 'r-o', label='Validation Loss')\n",
        "    ax1.set_title('Training & Validation Loss')\n",
        "    ax1.set_xlabel('Epochs')\n",
        "    ax1.set_ylabel('Loss')\n",
        "    ax1.legend()\n",
        "    ax1.grid(True)\n",
        "\n",
        "    # พล็อตกราฟ Accuracy\n",
        "    ax2.plot(epochs, train_accuracies, 'b-o', label='Training Accuracy')\n",
        "    if val_accuracies:\n",
        "        ax2.plot(epochs, val_accuracies, 'r-o', label='Validation Accuracy')\n",
        "    ax2.set_title('Training & Validation Accuracy')\n",
        "    ax2.set_xlabel('Epochs')\n",
        "    ax2.set_ylabel('Accuracy (%)')\n",
        "    ax2.legend()\n",
        "    ax2.grid(True)\n",
        "\n",
        "    plt.tight_layout()\n",
        "    plt.savefig('training_results.png')\n",
        "    plt.show()"
      ],
      "metadata": {
        "id": "FGpsOPjVJzPB"
      },
      "execution_count": null,
      "outputs": []
    },
    {
      "cell_type": "code",
      "source": [
        "def calc_accuracy(preds, targets, target_lengths):\n",
        "    \"\"\"\n",
        "    คำนวณความแม่นยำตามตัวอักษร (character-level)\n",
        "\n",
        "    Parameters:\n",
        "    -----------\n",
        "    preds : torch.Tensor\n",
        "        ผลลัพธ์จากโมเดล shape [T, B, C]\n",
        "    targets : torch.Tensor\n",
        "        เป้าหมายที่ถูกต้อง (flatten)\n",
        "    target_lengths : torch.Tensor\n",
        "        ความยาวของแต่ละเป้าหมาย\n",
        "\n",
        "    Returns:\n",
        "    --------\n",
        "    float\n",
        "        ค่าความแม่นยำเฉลี่ยตามตัวอักษร (0-100%)\n",
        "    \"\"\"\n",
        "    preds = preds.permute(1, 0, 2)  # [T, B, C] -> [B, T, C]\n",
        "    batch_size = preds.size(0)\n",
        "    preds = preds.log_softmax(2).argmax(2)  # [B, T]\n",
        "\n",
        "    correct_chars = 0\n",
        "    total_chars = 0\n",
        "\n",
        "    # แยกเป้าหมายจาก tensor ที่แบนออกมา\n",
        "    target_offset = 0\n",
        "    for i in range(batch_size):\n",
        "        target_len = target_lengths[i].item()\n",
        "        target = targets[target_offset:target_offset + target_len]\n",
        "        target_offset += target_len\n",
        "\n",
        "        # ตัดเอาเฉพาะความยาวที่เท่ากับเป้าหมาย\n",
        "        pred = preds[i, :target_len]\n",
        "\n",
        "        # นับจำนวนตัวอักษรที่ทำนายถูกต้อง\n",
        "        correct_chars += torch.sum(pred.eq(target)).item()\n",
        "        total_chars += target_len\n",
        "\n",
        "    return (correct_chars / total_chars) * 100.0 if total_chars > 0 else 0.0"
      ],
      "metadata": {
        "id": "YEIFDBjrJ4PR"
      },
      "execution_count": null,
      "outputs": []
    },
    {
      "cell_type": "code",
      "source": [
        "# Create model\n",
        "model = CRNN(num_classes=len(characters) + 1)  # +1 for blank in CTC\n",
        "model = model.to(device)\n",
        "print(f\"Model created with {sum(p.numel() for p in model.parameters())} parameters\")\n",
        "\n",
        "# Loss and Optimizer\n",
        "criterion = nn.CTCLoss(blank=len(characters), reduction='mean')\n",
        "optimizer = optim.Adam(model.parameters(), lr=0.001)"
      ],
      "metadata": {
        "colab": {
          "base_uri": "https://localhost:8080/"
        },
        "id": "chW47XJfJ8vx",
        "outputId": "fb9a4f4b-76a8-4dc4-b2cd-4c957607a6de"
      },
      "execution_count": null,
      "outputs": [
        {
          "output_type": "stream",
          "name": "stdout",
          "text": [
            "Model created with 2957749 parameters\n"
          ]
        }
      ]
    },
    {
      "cell_type": "code",
      "source": [
        "summary(model, input_size=(3, 32, 128))  # 3 channels (RGB), 32x128 image size"
      ],
      "metadata": {
        "colab": {
          "base_uri": "https://localhost:8080/"
        },
        "id": "6xk3O_NKKS7J",
        "outputId": "f2d7acaf-58fc-4fb4-a27a-266857614936"
      },
      "execution_count": null,
      "outputs": [
        {
          "output_type": "stream",
          "name": "stdout",
          "text": [
            "----------------------------------------------------------------\n",
            "        Layer (type)               Output Shape         Param #\n",
            "================================================================\n",
            "            Conv2d-1          [-1, 64, 32, 128]           1,792\n",
            "              ReLU-2          [-1, 64, 32, 128]               0\n",
            "         MaxPool2d-3           [-1, 64, 16, 64]               0\n",
            "            Conv2d-4          [-1, 128, 16, 64]          73,856\n",
            "              ReLU-5          [-1, 128, 16, 64]               0\n",
            "         MaxPool2d-6           [-1, 128, 8, 32]               0\n",
            "            Conv2d-7           [-1, 256, 8, 32]         295,168\n",
            "       BatchNorm2d-8           [-1, 256, 8, 32]             512\n",
            "              ReLU-9           [-1, 256, 8, 32]               0\n",
            "           Conv2d-10           [-1, 256, 8, 32]         590,080\n",
            "             ReLU-11           [-1, 256, 8, 32]               0\n",
            "        MaxPool2d-12           [-1, 256, 4, 33]               0\n",
            "              GRU-13  [[-1, 33, 512], [-1, 2, 256]]               0\n",
            "           Linear-14               [-1, 33, 53]          27,189\n",
            "================================================================\n",
            "Total params: 988,597\n",
            "Trainable params: 988,597\n",
            "Non-trainable params: 0\n",
            "----------------------------------------------------------------\n",
            "Input size (MB): 0.05\n",
            "Forward/backward pass size (MB): 56.48\n",
            "Params size (MB): 3.77\n",
            "Estimated Total Size (MB): 60.30\n",
            "----------------------------------------------------------------\n"
          ]
        }
      ]
    },
    {
      "cell_type": "code",
      "source": [
        "# Training loop ที่ปรับปรุง\n",
        "def train(num_epochs=5):\n",
        "    model.train()\n",
        "\n",
        "    # เก็บข้อมูลสำหรับการพล็อตกราฟ\n",
        "    epochs = []\n",
        "    train_losses = []\n",
        "    train_accuracies = []\n",
        "\n",
        "    for epoch in range(num_epochs):\n",
        "        total_loss = 0\n",
        "        total_accuracy = 0\n",
        "        batch_count = 0\n",
        "\n",
        "        for i, (images, labels, label_lengths) in enumerate(train_loader):\n",
        "            # Move to device\n",
        "            images = images.to(device)\n",
        "            labels = labels.to(device)\n",
        "            label_lengths = label_lengths.to(device)\n",
        "\n",
        "            # Forward pass\n",
        "            outputs = model(images)  # [batch_size, seq_len, num_classes]\n",
        "\n",
        "            # เปลี่ยนรูปแบบของ outputs ให้เป็น [seq_len, batch_size, num_classes]\n",
        "            outputs = outputs.permute(1, 0, 2)  # [T, B, C]\n",
        "\n",
        "            # Get sequence length and batch size\n",
        "            T = outputs.size(0)  # sequence length\n",
        "            batch_size = outputs.size(1)  # batch size\n",
        "\n",
        "            # Create input_lengths tensor\n",
        "            input_lengths = torch.full(size=(batch_size,), fill_value=T, dtype=torch.long, device=device)\n",
        "\n",
        "            # Zero gradients\n",
        "            optimizer.zero_grad()\n",
        "\n",
        "            try:\n",
        "                # Compute loss\n",
        "                loss = criterion(outputs, labels, input_lengths, label_lengths)\n",
        "\n",
        "                # คำนวณ accuracy (สำหรับการดูประสิทธิภาพ)\n",
        "                accuracy = calc_accuracy(outputs, labels, label_lengths)\n",
        "\n",
        "                # Check if loss is valid\n",
        "                if torch.isnan(loss) or torch.isinf(loss):\n",
        "                    print(f\"Warning: Loss is {loss.item()}, skipping batch\")\n",
        "                    continue\n",
        "\n",
        "                # Backward and optimize\n",
        "                loss.backward()\n",
        "                optimizer.step()\n",
        "\n",
        "                # Track statistics\n",
        "                total_loss += loss.item()\n",
        "                total_accuracy += accuracy\n",
        "                batch_count += 1\n",
        "\n",
        "                # แสดงผลทุกๆ 5 batch\n",
        "                if (i + 1) % 5 == 0:\n",
        "                    print(f\"Epoch [{epoch+1}/{num_epochs}], Batch [{i+1}/{len(train_loader)}], \"\n",
        "                          f\"Loss: {loss.item():.4f}, Accuracy: {accuracy:.2f}%\")\n",
        "\n",
        "            except Exception as e:\n",
        "                print(f\"Error in batch {i}: {e}\")\n",
        "                print(f\"Labels: {labels}\")\n",
        "                print(f\"Label lengths: {label_lengths}\")\n",
        "                continue\n",
        "\n",
        "        # คำนวณค่าเฉลี่ยสำหรับ epoch นี้\n",
        "        if batch_count > 0:\n",
        "            avg_loss = total_loss / batch_count\n",
        "            avg_accuracy = total_accuracy / batch_count\n",
        "\n",
        "            # เก็บข้อมูลสำหรับการพล็อตกราฟ\n",
        "            epochs.append(epoch + 1)\n",
        "            train_losses.append(avg_loss)\n",
        "            train_accuracies.append(avg_accuracy)\n",
        "\n",
        "            print(f\"\\nEpoch [{epoch+1}/{num_epochs}], \"\n",
        "                  f\"Average Loss: {avg_loss:.4f}, Average Accuracy: {avg_accuracy:.2f}%\")\n",
        "\n",
        "    # บันทึกโมเดล\n",
        "    torch.save(model.state_dict(), 'thai_ocr_model.pth')\n",
        "    print(\"Training completed and model saved!\")\n",
        "\n",
        "    # พล็อตกราฟผลการเทรนนิ่ง\n",
        "    plot_training_results(epochs, train_losses, train_accuracies)\n",
        "\n",
        "    return train_losses, train_accuracies"
      ],
      "metadata": {
        "id": "Xeguq48mKA8B"
      },
      "execution_count": null,
      "outputs": []
    },
    {
      "cell_type": "code",
      "source": [
        "losses, accuracies = train(num_epochs=5)"
      ],
      "metadata": {
        "colab": {
          "base_uri": "https://localhost:8080/",
          "height": 982
        },
        "id": "z4rFjbxSKCGZ",
        "outputId": "b2e5e63a-3d45-4c11-962e-24d84f4493b2"
      },
      "execution_count": null,
      "outputs": [
        {
          "output_type": "stream",
          "name": "stdout",
          "text": [
            "Epoch [1/5], Batch [5/19], Loss: 1.5412, Accuracy: 31.15%\n",
            "Epoch [1/5], Batch [10/19], Loss: 1.0748, Accuracy: 36.07%\n",
            "Epoch [1/5], Batch [15/19], Loss: 1.6457, Accuracy: 35.00%\n",
            "\n",
            "Epoch [1/5], Average Loss: 1.4415, Average Accuracy: 31.17%\n",
            "Epoch [2/5], Batch [5/19], Loss: 1.1054, Accuracy: 36.67%\n",
            "Epoch [2/5], Batch [10/19], Loss: 1.3845, Accuracy: 32.76%\n",
            "Epoch [2/5], Batch [15/19], Loss: 1.5886, Accuracy: 30.00%\n",
            "\n",
            "Epoch [2/5], Average Loss: 1.2441, Average Accuracy: 34.19%\n",
            "Epoch [3/5], Batch [5/19], Loss: 1.2750, Accuracy: 30.51%\n",
            "Epoch [3/5], Batch [10/19], Loss: 1.4293, Accuracy: 32.79%\n",
            "Epoch [3/5], Batch [15/19], Loss: 1.4101, Accuracy: 31.67%\n",
            "\n",
            "Epoch [3/5], Average Loss: 1.3606, Average Accuracy: 31.36%\n",
            "Epoch [4/5], Batch [5/19], Loss: 1.3958, Accuracy: 35.00%\n",
            "Epoch [4/5], Batch [10/19], Loss: 1.2015, Accuracy: 33.33%\n",
            "Epoch [4/5], Batch [15/19], Loss: 1.1931, Accuracy: 35.59%\n",
            "\n",
            "Epoch [4/5], Average Loss: 1.3121, Average Accuracy: 33.44%\n",
            "Epoch [5/5], Batch [5/19], Loss: 1.3016, Accuracy: 29.82%\n",
            "Epoch [5/5], Batch [10/19], Loss: 1.2028, Accuracy: 37.29%\n",
            "Epoch [5/5], Batch [15/19], Loss: 0.8872, Accuracy: 37.70%\n",
            "\n",
            "Epoch [5/5], Average Loss: 1.0894, Average Accuracy: 36.82%\n",
            "Training completed and model saved!\n"
          ]
        },
        {
          "output_type": "display_data",
          "data": {
            "text/plain": [
              "<Figure size 1500x500 with 2 Axes>"
            ],
            "image/png": "[encoded data removed]"
          },
          "metadata": {}
        }
      ]
    },
    {
      "cell_type": "code",
      "source": [
        "# ฟังก์ชันสำหรับการทดสอบและทำนายข้อความ\n",
        "def predict_text(model, image_path):\n",
        "    \"\"\"\n",
        "    ทำนายข้อความจากรูปภาพ\n",
        "\n",
        "    Parameters:\n",
        "    -----------\n",
        "    model : nn.Module\n",
        "        โมเดล CRNN ที่ผ่านการเทรนนิ่งแล้ว\n",
        "    image_path : str\n",
        "        พาธไปยังรูปภาพที่ต้องการทำนาย\n",
        "\n",
        "    Returns:\n",
        "    --------\n",
        "    str\n",
        "        ข้อความที่ทำนาย\n",
        "    \"\"\"\n",
        "    model.eval()\n",
        "\n",
        "    # โหลดและเตรียมรูปภาพ\n",
        "    img = Image.open(image_path).convert('RGB')\n",
        "    img = transform(img).unsqueeze(0).to(device)  # [1, 3, 32, 128]\n",
        "\n",
        "    with torch.no_grad():\n",
        "        # ทำนาย\n",
        "        outputs = model(img)  # [1, seq_len, num_classes]\n",
        "        outputs = outputs.permute(1, 0, 2)  # [seq_len, 1, num_classes]\n",
        "\n",
        "        # Greedy decoding (ตัวอย่างง่ายๆ)\n",
        "        outputs = outputs.permute(1, 0, 2)  # [1, seq_len, num_classes]\n",
        "        outputs = outputs.log_softmax(2).argmax(2).squeeze(0)  # [seq_len]\n",
        "\n",
        "        # แปลงตัวเลขกลับเป็นข้อความ\n",
        "        result = []\n",
        "        prev_char = -1\n",
        "        for char_index in outputs:\n",
        "            char_index = char_index.item()\n",
        "            # ข้ามอักขระว่าง (blank) และอักขระซ้ำ (CTC collapse)\n",
        "            if char_index != len(characters) and char_index != prev_char:\n",
        "                result.append(characters[char_index])\n",
        "            prev_char = char_index\n",
        "\n",
        "        # รวมผลลัพธ์เป็นข้อความ\n",
        "        predicted_text = ''.join(result)\n",
        "\n",
        "    return predicted_text\n",
        "\n",
        "# ฟังก์ชันสำหรับการประเมินโมเดลกับชุดข้อมูลทดสอบ\n",
        "def evaluate_model(model, test_loader):\n",
        "    \"\"\"\n",
        "    ประเมินประสิทธิภาพของโมเดลกับชุดข้อมูลทดสอบ\n",
        "\n",
        "    Parameters:\n",
        "    -----------\n",
        "    model : nn.Module\n",
        "        โมเดล CRNN ที่ผ่านการเทรนนิ่งแล้ว\n",
        "    test_loader : DataLoader\n",
        "        DataLoader สำหรับชุดข้อมูลทดสอบ\n",
        "\n",
        "    Returns:\n",
        "    --------\n",
        "    float\n",
        "        ค่าความแม่นยำเฉลี่ย (0-100%)\n",
        "    float\n",
        "        ค่า loss เฉลี่ย\n",
        "    \"\"\"\n",
        "    model.eval()\n",
        "    total_loss = 0\n",
        "    total_accuracy = 0\n",
        "    batch_count = 0\n",
        "\n",
        "    with torch.no_grad():\n",
        "        for i, (images, labels, label_lengths) in enumerate(test_loader):\n",
        "            # Move to device\n",
        "            images = images.to(device)\n",
        "            labels = labels.to(device)\n",
        "            label_lengths = label_lengths.to(device)\n",
        "\n",
        "            # Forward pass\n",
        "            outputs = model(images)\n",
        "            outputs = outputs.permute(1, 0, 2)  # [T, B, C]\n",
        "\n",
        "            # Get sequence length and batch size\n",
        "            T = outputs.size(0)\n",
        "            batch_size = outputs.size(1)\n",
        "\n",
        "            # Create input_lengths tensor\n",
        "            input_lengths = torch.full(size=(batch_size,), fill_value=T, dtype=torch.long, device=device)\n",
        "\n",
        "            try:\n",
        "                # Compute loss\n",
        "                loss = criterion(outputs, labels, input_lengths, label_lengths)\n",
        "\n",
        "                # Calculate accuracy\n",
        "                accuracy = calc_accuracy(outputs, labels, label_lengths)\n",
        "\n",
        "                total_loss += loss.item()\n",
        "                total_accuracy += accuracy\n",
        "                batch_count += 1\n",
        "\n",
        "            except Exception as e:\n",
        "                print(f\"Error in evaluation batch {i}: {e}\")\n",
        "                continue\n",
        "\n",
        "    # คำนวณค่าเฉลี่ย\n",
        "    if batch_count > 0:\n",
        "        avg_loss = total_loss / batch_count\n",
        "        avg_accuracy = total_accuracy / batch_count\n",
        "        return avg_accuracy, avg_loss\n",
        "    else:\n",
        "        return 0.0, float('inf')\n",
        "\n",
        "# ตัวอย่างการใช้งานฟังก์ชันทำนาย (หลังจากเทรนแล้ว)\n",
        "# predicted_text = predict_text(model, \"path/to/test/image.jpg\")\n",
        "# print(f\"Predicted text: {predicted_text}\")\n",
        "\n",
        "# ตัวอย่างการเตรียม test loader (ถ้ามีชุดข้อมูลทดสอบ)\n",
        "# test_dataset = OCRDataset(\"/path/to/test/images\", \"/path/to/test/labels.txt\", transform=transform)\n",
        "# test_loader = DataLoader(test_dataset, batch_size=8, shuffle=False, collate_fn=ctc_collate_fn)\n",
        "# test_accuracy, test_loss = evaluate_model(model, test_loader)\n",
        "# print(f\"Test Accuracy: {test_accuracy:.2f}%, Test Loss: {test_loss:.4f}\")"
      ],
      "metadata": {
        "id": "xAyXK0o9JI6r"
      },
      "execution_count": null,
      "outputs": []
    },
    {
      "cell_type": "code",
      "source": [
        "predicted_text = predict_text(model, \"/content/drive/MyDrive/MiniPro_Ml/ocr_dataset/custom_easyocr/train_images/plate_01.jpg\")\n",
        "print(f\"Predicted text: {predicted_text}\")"
      ],
      "metadata": {
        "colab": {
          "base_uri": "https://localhost:8080/"
        },
        "id": "MBn2IdYkLhQg",
        "outputId": "b11ae369-dbc8-41bd-9148-8997e231dbfd"
      },
      "execution_count": null,
      "outputs": [
        {
          "output_type": "stream",
          "name": "stdout",
          "text": [
            "Predicted text: งก 5\n"
          ]
        }
      ]
    },
    {
      "cell_type": "code",
      "source": [
        "# ตัวอย่างการเตรียม test loader (ถ้ามีชุดข้อมูลทดสอบ)\n",
        "test_dataset = OCRDataset(\"/content/drive/MyDrive/MiniPro_Ml/ocr_dataset/custom_easyocr/valid_images\", \"/content/drive/MyDrive/MiniPro_Ml/ocr_dataset/custom_easyocr/test_labels.txt\", transform=transform)\n",
        "test_loader = DataLoader(test_dataset, batch_size=8, shuffle=False, collate_fn=ctc_collate_fn)\n",
        "test_accuracy, test_loss = evaluate_model(model, test_loader)\n",
        "print(f\"Test Accuracy: {test_accuracy:.2f}%, Test Loss: {test_loss:.4f}\")"
      ],
      "metadata": {
        "colab": {
          "base_uri": "https://localhost:8080/"
        },
        "id": "q6lEfxj-Lw94",
        "outputId": "b98a3b6e-69d2-4756-e158-6ed90ad6bff6"
      },
      "execution_count": null,
      "outputs": [
        {
          "output_type": "stream",
          "name": "stdout",
          "text": [
            "Test Accuracy: 17.43%, Test Loss: 4.6526\n"
          ]
        }
      ]
    },
    {
      "cell_type": "code",
      "source": [
        "# Save model\n",
        "torch.save(model.state_dict(), 'new_thai_ocr_model.pth')\n",
        "print(\"Training completed and model saved!\")"
      ],
      "metadata": {
        "colab": {
          "base_uri": "https://localhost:8080/"
        },
        "id": "PV_99ql_NnUm",
        "outputId": "a2f5af92-657d-4004-e54e-4faa56946669"
      },
      "execution_count": null,
      "outputs": [
        {
          "output_type": "stream",
          "name": "stdout",
          "text": [
            "Training completed and model saved!\n"
          ]
        }
      ]
    },
    {
      "cell_type": "code",
      "source": [
        "save_path = \"/content/drive/MyDrive/MiniPro_Ml/model/new_thai_ocr_model.pth\"\n",
        "torch.save(model.state_dict(), save_path)\n",
        "print(f\"Model saved to {save_path}\")"
      ],
      "metadata": {
        "colab": {
          "base_uri": "https://localhost:8080/"
        },
        "id": "nmuCu_TBNw2G",
        "outputId": "125a7ddd-bdf7-4ca2-c912-1dd109ec03c2"
      },
      "execution_count": null,
      "outputs": [
        {
          "output_type": "stream",
          "name": "stdout",
          "text": [
            "Model saved to /content/drive/MyDrive/MiniPro_Ml/model/new_thai_ocr_model.pth\n"
          ]
        }
      ]
    }
  ]
}